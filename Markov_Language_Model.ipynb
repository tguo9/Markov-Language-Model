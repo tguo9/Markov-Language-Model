{
 "cells": [
  {
   "cell_type": "code",
   "execution_count": 28,
   "metadata": {},
   "outputs": [],
   "source": [
    "# Grimms' Fairy Tales by Jacob and Wilhelm Grimm\n",
    "data_url = 'http://www.gutenberg.org/files/2591/2591-0.txt'\n",
    "corpus = urllib.request.urlopen(data_url).read().decode(\"utf-8\")\n",
    "# remove the first chunk of characters, which contains some header stuff\n",
    "corpus = corpus[2820:]"
   ]
  },
  {
   "cell_type": "code",
   "execution_count": 29,
   "metadata": {
    "scrolled": true
   },
   "outputs": [
    {
     "name": "stdout",
     "output_type": "stream",
     "text": [
      "A certain king had a beautiful garden, and in the garden stood a tree\n",
      "which bore golden apples. These apples were always counted, and about\n",
      "the time when they began to grow ripe it was found that ev\n"
     ]
    }
   ],
   "source": [
    "print(corpus[:200])  # print out the first 200 characters"
   ]
  },
  {
   "cell_type": "code",
   "execution_count": 30,
   "metadata": {},
   "outputs": [],
   "source": [
    "class MarkovModel:\n",
    "    \n",
    "    \"\"\"This is a class that implements Markov Model algorithm\n",
    "\n",
    "    The __init__ method creates the MarkovModel instence, and pass in the n gram length\n",
    "\n",
    "    Args:\n",
    "        n (int): The length of the n-gram\n",
    "\n",
    "    Attributes:\n",
    "        n (int): The length of the n-gram\n",
    "        outer_dict (dict): The outer dictionary\n",
    "\n",
    "    \"\"\"\n",
    "    \n",
    "    def __init__(self, n):\n",
    "        self.n = n\n",
    "        self.outer_dict = dict()\n",
    "        \n",
    "    def fit(self, text):\n",
    "        \n",
    "        \"\"\"\n",
    "        This is a method calculates and \n",
    "        stores the empirical probabilities of all possible next characters given an n-gram\n",
    "\n",
    "        Args:\n",
    "            text (str): The text that you want to take in to read\n",
    "\n",
    "        \"\"\"\n",
    "        \n",
    "        self.pass_text = text\n",
    "        text += text[:self.n]\n",
    "        \n",
    "        text_length = len(text)\n",
    "        for i in range(text_length - self.n - 1):\n",
    "            \n",
    "            n_gram = text[i:(i + self.n)]\n",
    "            inner_key = text[i + self.n]\n",
    "               \n",
    "            if n_gram in self.outer_dict.keys():\n",
    "                \n",
    "                if inner_key in self.outer_dict.get(n_gram):\n",
    "                    self.outer_dict.get(n_gram)[inner_key] = self.outer_dict.get(n_gram).get(inner_key) + 1\n",
    "                else:\n",
    "                    self.outer_dict.get(n_gram)[inner_key] =  1\n",
    "            else:\n",
    "                inner_dict = dict()\n",
    "                inner_dict[inner_key] =  1\n",
    "                \n",
    "                self.outer_dict[n_gram] = inner_dict\n",
    "        \n",
    "        for out_key in self.outer_dict.keys():\n",
    "            total_num = sum(list(self.outer_dict.get(out_key).values()))\n",
    "            for in_key in self.outer_dict.get(out_key).keys():\n",
    "                self.outer_dict.get(out_key)[in_key] = self.outer_dict.get(out_key).get(in_key) / (total_num)\n",
    "                 \n",
    "    def generate(self, length):\n",
    "        \n",
    "        \"\"\"\n",
    "        This is a method creates a random text of a specified length \n",
    "        by generating one character at a time from the probability distribution \n",
    "\n",
    "        Args:\n",
    "            length (int): The length that you want to generate\n",
    "\n",
    "        \"\"\"\n",
    "        \n",
    "        output_text = self.pass_text[:self.n]\n",
    "        \n",
    "        for i in range(length):\n",
    "            last = output_text[-self.n:]\n",
    "            index = np.random.choice(list(self.outer_dict.get(last).keys()), size=1, p=list(self.outer_dict.get(last).values()))\n",
    "            output_text += index[0]\n",
    "        \n",
    "        return output_text"
   ]
  },
  {
   "cell_type": "code",
   "execution_count": 31,
   "metadata": {
    "scrolled": true
   },
   "outputs": [
    {
     "name": "stdout",
     "output_type": "stream",
     "text": [
      "A certains will\n",
      "  Will you shall have brough that the clothes, and that song, but she fell be burst find his handkerchief was their could be. The Foundation and before.’ They\n",
      "was already quite beautiful\n",
      "princess, and happy my\n",
      "garden he went to the from his done? You\n",
      "home foot at last he orders return must go with that come time. The little voice:\n",
      "\n",
      " ‘Tell upon the made two tail, to another drink.’ She soon began\n",
      "the grow\n",
      "to be summon name deep shall peas out; and country what ails your short \n"
     ]
    }
   ],
   "source": [
    "mm = MarkovModel(n=5)\n",
    "mm.fit(corpus)\n",
    "print(mm.generate(500))"
   ]
  },
  {
   "cell_type": "code",
   "execution_count": 32,
   "metadata": {},
   "outputs": [
    {
     "name": "stdout",
     "output_type": "stream",
     "text": [
      "Ag, w; ppatet.’ moun bert. teng t Burang quro o roro sen, thele\n",
      "hegoanssker, toul thu we o thasse an\n",
      "ot ckn t cce beax, llon gitste\n",
      "thovisto tetheyes asthad t withewe ashe hicr ind has. orin\n",
      "Gof Cone a conde l d he bo ome?’ sthey-w wif iof s tis\n",
      "t\n",
      "ar chin sten; stheroust, theany d wed chingo s male hrimin ‘Anthimavedend siskid sthid t won, s t\n",
      "he er hthintod hera sertyonond sckem, weryonew?’ he mer, edisorofeinghen d he; m. mend was t hisutoost-thed Lis heg ‘Ifome meneeteroun her w the id \n"
     ]
    }
   ],
   "source": [
    "mm = MarkovModel(n=1)\n",
    "mm.fit(corpus)\n",
    "print(mm.generate(500))"
   ]
  },
  {
   "cell_type": "code",
   "execution_count": 33,
   "metadata": {},
   "outputs": [
    {
     "name": "stdout",
     "output_type": "stream",
     "text": [
      "A loncesself the me, arant an everew ther king andow INER\n",
      "rest, for witche heir me they. But a just dinks sawass,’ The toor ittle a gives onesto ithen.’ The waid sight ou a livere will cat of it, no\n",
      "A not on earthold that lif tered befould hing or easle said, als, th givere.’ This gres, throme, war and\n",
      "\n",
      "antm he mand ther dwast on the\n",
      "whell she of sect prided of thers\n",
      "twen to be thempled and dow now he her’s it, hidegger, th I awond not she fought, a he hated\n",
      "  Fat shost lies, an\n",
      "the a homp\n"
     ]
    }
   ],
   "source": [
    "mm = MarkovModel(n=2)\n",
    "mm.fit(corpus)\n",
    "print(mm.generate(500))"
   ]
  },
  {
   "cell_type": "code",
   "execution_count": 34,
   "metadata": {},
   "outputs": [
    {
     "name": "stdout",
     "output_type": "stream",
     "text": [
      "A certain half-frozen half with schools is no warm too mighty and we stop! Mr Carter of this, she way he way is dear little of hair. ‘Goodbye, Hans had been very joyful; thirsty, we wild one of the cook, in the other; and do it, none way?’ The wood\n",
      "and jeered to me?’ ‘Silly girls exactly over them.’ ‘Good\n",
      "soon as he little duck got return, ‘At this gone after meat,’ said not hurry as quite liked much lay\n",
      "quietly that, and cried Tom, half so back your before whole starry one and the\n",
      "stood behold h\n"
     ]
    }
   ],
   "source": [
    "mm = MarkovModel(n=5)\n",
    "mm.fit(corpus)\n",
    "print(mm.generate(500))"
   ]
  },
  {
   "cell_type": "code",
   "execution_count": 35,
   "metadata": {},
   "outputs": [
    {
     "name": "stdout",
     "output_type": "stream",
     "text": [
      "A certain father has had it, and it fell without stopping, and all round. He next tried to hit the thief, he himself over the field and saw\n",
      "the flower he held in the wind.\n",
      "\n",
      "All went right, and gave her a warm welcome. She related to them\n",
      "and cried: ‘Hurry\n",
      "up, Gretel, there is but one pope at a time might soon come back\n",
      "the father, ‘we will shut upon you for ever.’\n",
      "Said Lina: ‘Be a fishpond, and I will light a fire for their little fellow as I? you would have been made\n",
      "into broth without any anxiet\n"
     ]
    }
   ],
   "source": [
    "mm = MarkovModel(n=10)\n",
    "mm.fit(corpus)\n",
    "print(mm.generate(500))"
   ]
  },
  {
   "cell_type": "code",
   "execution_count": 36,
   "metadata": {},
   "outputs": [
    {
     "name": "stdout",
     "output_type": "stream",
     "text": [
      "tiving (or he mome conder eyes; feeling his cames if he work for trooms. I do:\n",
      "\n",
      "Sid\n",
      "she hope fore with of Restful only it, rown\n",
      "cons staffall not that'll here scentmindown that them oney with as hel to Sher twell you as thouse the\n",
      "Injun onclosed next\n",
      "\n",
      "“'Tis recreture hade any lassed fourst, they after at do, the backboast for lowlderband I call of this a fence of\n",
      "the\n",
      "doze, und so loat, it of theren pationspiciouse; it it one--hear thesying ransweet fore.”\n",
      "\n",
      "“Shut hearted almost ben the se\n"
     ]
    }
   ],
   "source": [
    "data_url = 'http://www.gutenberg.org/files/74/74-0.txt'\n",
    "corpus2 = urllib.request.urlopen(data_url).read().decode(\"utf-8\")\n",
    "corpus2 = corpus2[3000:]\n",
    "mm_new = MarkovModel(n=3)\n",
    "mm_new.fit(corpus2)\n",
    "print(mm_new.generate(500))"
   ]
  },
  {
   "cell_type": "code",
   "execution_count": 37,
   "metadata": {},
   "outputs": [
    {
     "name": "stdout",
     "output_type": "stream",
     "text": [
      "tives\n",
      "\n",
      "CHAPTER XXVII\n",
      "\n",
      "THE adventure of the day mightily tormented Tom's dreams that night.\n",
      "Four times he had his hands on that rich treasure and four times\n",
      "it wasted to nothingness in his fingers as sleep forsook him and\n",
      "wakefulness brought back the hard reality of his misfortune. As he lay\n",
      "in the early morning recalling the incidents of his adventure grew sensibly sharper and clearer\n",
      "under the attrition of thinking them over, and so he presently found\n",
      "himself leaning to the impression that the thing\n"
     ]
    }
   ],
   "source": [
    "mm_new = MarkovModel(n=15)\n",
    "mm_new.fit(corpus2)\n",
    "print(mm_new.generate(500))"
   ]
  }
 ],
 "metadata": {
  "anaconda-cloud": {},
  "kernelspec": {
   "display_name": "Python 3",
   "language": "python",
   "name": "python3"
  },
  "language_info": {
   "codemirror_mode": {
    "name": "ipython",
    "version": 3
   },
   "file_extension": ".py",
   "mimetype": "text/x-python",
   "name": "python",
   "nbconvert_exporter": "python",
   "pygments_lexer": "ipython3",
   "version": "3.7.6"
  }
 },
 "nbformat": 4,
 "nbformat_minor": 4
}
